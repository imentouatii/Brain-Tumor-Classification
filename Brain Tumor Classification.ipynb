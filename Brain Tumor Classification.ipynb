{
 "cells": [
  {
   "attachments": {},
   "cell_type": "markdown",
   "metadata": {},
   "source": [
    "## Importing Packages "
   ]
  },
  {
   "cell_type": "code",
   "execution_count": null,
   "metadata": {},
   "outputs": [],
   "source": [
    "import matplotlib.pyplot as plt\n",
    "import numpy as np\n",
    "import pandas as pd\n",
    "import seaborn as sns\n",
    "import cv2\n",
    "import tensorflow as tf\n",
    "from tensorflow.keras.preprocessing.image import ImageDataGenerator\n",
    "from tqdm import tqdm\n",
    "import os\n",
    "from sklearn.utils import shuffle\n",
    "from sklearn.model_selection import train_test_split\n"
   ]
  },
  {
   "attachments": {},
   "cell_type": "markdown",
   "metadata": {},
   "source": [
    "## Loading Data "
   ]
  },
  {
   "cell_type": "code",
   "execution_count": null,
   "metadata": {},
   "outputs": [],
   "source": [
    "labels = ['glioma_tumor','no_tumor','meningioma_tumor','pituitary_tumor']"
   ]
  },
  {
   "cell_type": "code",
   "execution_count": null,
   "metadata": {},
   "outputs": [],
   "source": [
    "train_data = []\n",
    "train_labels = []\n",
    "test_data = []\n",
    "test_labels = []"
   ]
  },
  {
   "cell_type": "code",
   "execution_count": null,
   "metadata": {},
   "outputs": [],
   "source": [
    "image_size = 150\n",
    "for i in labels:\n",
    "  train_path= os.path.join(\"C:\\\\Users\\\\LENOVO G3\\\\Downloads\\\\Brain Tumor Classification\\\\Training\",i)\n",
    "  for j in tqdm(os.listdir(train_path)):\n",
    "        img = cv2.imread(os.path.join(train_path,j))\n",
    "        img = cv2.resize(img,(image_size,image_size))\n",
    "        train_data.append(img)\n",
    "        train_labels.append(i)\n",
    "    \n",
    "        "
   ]
  },
  {
   "cell_type": "code",
   "execution_count": null,
   "metadata": {},
   "outputs": [],
   "source": [
    "image_size = 150\n",
    "for i in labels:\n",
    "  test_path= os.path.join(\"C:\\\\Users\\\\LENOVO G3\\\\Downloads\\\\Brain Tumor Classification\\\\testing\",i)\n",
    "  for j in tqdm(os.listdir(test_path)):\n",
    "        img = cv2.imread(os.path.join(test_path,j))\n",
    "        img = cv2.resize(img,(image_size,image_size))\n",
    "        test_data.append(img)\n",
    "        test_labels.append(i)\n",
    "    \n",
    "        "
   ]
  },
  {
   "attachments": {},
   "cell_type": "markdown",
   "metadata": {},
   "source": [
    "## Data Preprocessing"
   ]
  },
  {
   "attachments": {},
   "cell_type": "markdown",
   "metadata": {},
   "source": [
    "### Data Visualization"
   ]
  },
  {
   "cell_type": "code",
   "execution_count": null,
   "metadata": {},
   "outputs": [],
   "source": [
    "import plotly.express as px\n",
    "path=\"C:\\\\Users\\\\LENOVO G3\\\\Downloads\\\\Brain Tumor Classification\\\\Training\"\n",
    "label_info={}\n",
    "# print(labels)\n",
    "for name in labels:\n",
    "    label_info[name] = len(os.listdir(path+f'\\\\{name}'))\n",
    "print(label_info)  "
   ]
  },
  {
   "cell_type": "code",
   "execution_count": null,
   "metadata": {},
   "outputs": [],
   "source": [
    "fig = px.pie(names=label_info.keys(),values=label_info.values(),title='Label Information')\n",
    "fig.update_layout({'title':{\"x\":0.457}})\n",
    "fig.show()"
   ]
  },
  {
   "cell_type": "code",
   "execution_count": null,
   "metadata": {},
   "outputs": [],
   "source": [
    "glimoa_train = os.listdir('C:\\\\Users\\\\LENOVO G3\\\\Downloads\\\\Brain Tumor Classification\\\\Training\\\\glioma_tumor')\n",
    "meningioma_train = os.listdir('C:\\\\Users\\\\LENOVO G3\\\\Downloads\\\\Brain Tumor Classification\\\\Training\\\\meningioma_tumor')\n",
    "no_tumor_train = os.listdir('C:\\\\Users\\\\LENOVO G3\\\\Downloads\\\\Brain Tumor Classification\\\\Training\\\\no_tumor')\n",
    "pituitory_train = os.listdir('C:\\\\Users\\\\LENOVO G3\\\\Downloads\\\\Brain Tumor Classification\\\\Training\\\\pituitary_tumor')"
   ]
  },
  {
   "cell_type": "code",
   "execution_count": null,
   "metadata": {},
   "outputs": [],
   "source": [
    "import seaborn as sn\n",
    "classes = [\"Glioma\", \"Meningioma\", \"No tumor\", \"Pituitary\"]\n",
    "numbers = [len(glimoa_train),len(meningioma_train),len(no_tumor_train),len(pituitory_train)]\n",
    "sn.barplot(x=classes,y = numbers)"
   ]
  },
  {
   "cell_type": "code",
   "execution_count": null,
   "metadata": {},
   "outputs": [],
   "source": [
    "plt.figure(figsize = (10,3))\n",
    "plt.suptitle('Sample Images', fontsize=20)\n",
    "for i,j in enumerate(train_data):\n",
    "    if i<4:\n",
    "        plt.subplot(1,4,i+1)\n",
    "        plt.imshow(j)\n",
    "        plt.title(classes[i])\n",
    "        plt.tight_layout()\n",
    "        plt.axis('off')\n",
    "    else:\n",
    "        break"
   ]
  },
  {
   "cell_type": "code",
   "execution_count": null,
   "metadata": {},
   "outputs": [],
   "source": [
    "train_data = np.array(train_data)\n",
    "train_labels = np.array(train_labels)\n",
    "\n",
    "test_data = np.array(test_data)\n",
    "test_labels = np.array(test_labels)"
   ]
  },
  {
   "cell_type": "markdown",
   "metadata": {},
   "source": [
    "### Data Normalization"
   ]
  },
  {
   "cell_type": "code",
   "execution_count": null,
   "metadata": {},
   "outputs": [],
   "source": [
    "train_data=train_data/255.0\n",
    "test_data=test_data/255.0"
   ]
  },
  {
   "cell_type": "code",
   "execution_count": null,
   "metadata": {},
   "outputs": [],
   "source": [
    "train_data[0].shape\n"
   ]
  },
  {
   "cell_type": "code",
   "execution_count": null,
   "metadata": {},
   "outputs": [],
   "source": [
    "test_data[0].shape"
   ]
  },
  {
   "cell_type": "code",
   "execution_count": null,
   "metadata": {},
   "outputs": [],
   "source": [
    "train_data, train_labels = shuffle(train_data, train_labels, random_state=0)\n",
    "test_data, test_labels = shuffle(test_data, test_labels, random_state=0)"
   ]
  },
  {
   "attachments": {},
   "cell_type": "markdown",
   "metadata": {},
   "source": [
    "### Generating new data"
   ]
  },
  {
   "cell_type": "code",
   "execution_count": null,
   "metadata": {},
   "outputs": [],
   "source": [
    "train_datagen = ImageDataGenerator(        \n",
    "        fill_mode=\"nearest\",\n",
    "        shear_range=0.2,\n",
    "        zoom_range=0.2,\n",
    "        horizontal_flip=True,\n",
    "        validation_split=0.1\n",
    ")\n",
    "test_datagen = ImageDataGenerator()\n",
    "\n",
    "\n",
    "train_ds = train_datagen.flow(\n",
    "  train_data, train_labels,\n",
    "  subset=\"training\",\n",
    "  shuffle=True,\n",
    "  batch_size=20)\n",
    "val_ds = train_datagen.flow(\n",
    "  train_data, train_labels,\n",
    "  subset=\"validation\",\n",
    "  shuffle=True,\n",
    "  batch_size=20)\n",
    "test_ds = test_datagen.flow(\n",
    "  test_data, test_labels,\n",
    "  shuffle=False,\n",
    "  batch_size=20)"
   ]
  },
  {
   "cell_type": "code",
   "execution_count": null,
   "metadata": {},
   "outputs": [],
   "source": [
    "from sklearn.preprocessing import LabelEncoder\n",
    "from keras.utils import to_categorical\n"
   ]
  },
  {
   "cell_type": "code",
   "execution_count": null,
   "metadata": {},
   "outputs": [],
   "source": [
    "le = LabelEncoder()\n",
    "test_labels = le.fit_transform(test_labels)"
   ]
  },
  {
   "cell_type": "code",
   "execution_count": null,
   "metadata": {},
   "outputs": [],
   "source": [
    "print(test_labels.shape)\n"
   ]
  },
  {
   "attachments": {},
   "cell_type": "markdown",
   "metadata": {},
   "source": [
    "### Model Building"
   ]
  },
  {
   "cell_type": "code",
   "execution_count": null,
   "metadata": {},
   "outputs": [],
   "source": [
    "from tensorflow.keras.models import Sequential, Model\n",
    "from tensorflow.keras.layers import Conv2D, MaxPooling2D, Dropout, Flatten, Dense,GlobalAveragePooling2D\n",
    "from tensorflow.keras.optimizers import Adam\n",
    "from tensorflow.keras.applications.resnet50 import ResNet50\n",
    "from tensorflow.keras.preprocessing import image\n",
    "from tensorflow.keras.applications.resnet50 import preprocess_input, decode_predictions"
   ]
  },
  {
   "cell_type": "code",
   "execution_count": null,
   "metadata": {},
   "outputs": [],
   "source": [
    "import os\n",
    "os.environ['TF_CPP_MIN_LOG_LEVEL'] = '3'\n",
    "\n",
    "model = Sequential([\n",
    "    Conv2D(32, (2, 2), input_shape=(img_size, img_size, 1), activation='relu', padding='same', strides=1),\n",
    "    MaxPooling2D(),\n",
    "    Conv2D(64, (2, 2), strides=2, activation='relu', padding='same'),\n",
    "    MaxPooling2D(),\n",
    "    Conv2D(128, (2, 2), strides=1, activation='relu', padding='same'),\n",
    "    MaxPooling2D(),\n",
    "    Flatten(),\n",
    "    Dense(128, activation='relu'),\n",
    "    Dense(1, activation='sigmoid')\n",
    "])"
   ]
  },
  {
   "cell_type": "code",
   "execution_count": null,
   "metadata": {},
   "outputs": [],
   "source": [
    "model.output_shape"
   ]
  },
  {
   "cell_type": "code",
   "execution_count": null,
   "metadata": {},
   "outputs": [],
   "source": [
    "model.summary()"
   ]
  },
  {
   "cell_type": "code",
   "execution_count": null,
   "metadata": {},
   "outputs": [],
   "source": [
    "model.get_weights()"
   ]
  },
  {
   "cell_type": "code",
   "execution_count": null,
   "metadata": {},
   "outputs": [],
   "source": [
    "model.compile(loss ='binary_crossentropy',optimizer ='adam', metrics =['accuracy'])"
   ]
  },
  {
   "attachments": {},
   "cell_type": "markdown",
   "metadata": {},
   "source": [
    "### Model Training"
   ]
  },
  {
   "cell_type": "code",
   "execution_count": null,
   "metadata": {},
   "outputs": [],
   "source": [
    "history = model.fit(train_data,train_labels,validation_split=0.2, epochs =100, verbose=1, batch_size=32)"
   ]
  },
  {
   "attachments": {},
   "cell_type": "markdown",
   "metadata": {},
   "source": [
    "### Testing "
   ]
  },
  {
   "cell_type": "code",
   "execution_count": null,
   "metadata": {},
   "outputs": [],
   "source": [
    "pred = cnn.predict(test_ds)\n",
    "from sklearn.metrics import accuracy_score, confusion_matrix\n",
    "accuracy_score(pred.argmax(axis=1),test_labels.argmax(axis=1))"
   ]
  },
  {
   "cell_type": "code",
   "execution_count": null,
   "metadata": {},
   "outputs": [],
   "source": [
    "import itertools\n",
    "\n",
    "def plot_confusion_matrix(cm, classes, normalize=False, cmap=plt.cm.Reds):\n",
    "    plt.figure(figsize=(10,10))\n",
    "    plt.imshow(cm, cmap=cmap)\n",
    "    plt.colorbar()\n",
    "    plt.xticks(range(len(classes)), classes, rotation=45)\n",
    "    plt.yticks(range(len(classes)), classes)\n",
    "    if normalize:\n",
    "        cm = cm.astype('float') / cm.sum(axis=1)[:, np.newaxis]\n",
    "    thresh = cm.max() / 2.\n",
    "    [plt.text(j, i, cm[i, j], horizontalalignment=\"center\", color=\"white\" if cm[i, j] > thresh else \"black\") for i, j in itertools.product(range(len(classes)), repeat=2)]\n",
    "    plt.tight_layout()\n",
    "    plt.ylabel('True label')\n",
    "    plt.xlabel('Predicted label')\n"
   ]
  }
 ],
 "metadata": {
  "kernelspec": {
   "display_name": "Python 3",
   "language": "python",
   "name": "python3"
  },
  "language_info": {
   "codemirror_mode": {
    "name": "ipython",
    "version": 3
   },
   "file_extension": ".py",
   "mimetype": "text/x-python",
   "name": "python",
   "nbconvert_exporter": "python",
   "pygments_lexer": "ipython3",
   "version": "3.10.6"
  },
  "orig_nbformat": 4,
  "vscode": {
   "interpreter": {
    "hash": "26de051ba29f2982a8de78e945f0abaf191376122a1563185a90213a26c5da77"
   }
  }
 },
 "nbformat": 4,
 "nbformat_minor": 2
}
